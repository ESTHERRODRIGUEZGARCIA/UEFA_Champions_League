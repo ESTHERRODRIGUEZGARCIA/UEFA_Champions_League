{
 "cells": [
  {
   "cell_type": "code",
   "execution_count": 1,
   "metadata": {},
   "outputs": [
    {
     "name": "stdout",
     "output_type": "stream",
     "text": [
      "ID de Real Madrid: 86\n"
     ]
    }
   ],
   "source": [
    "import requests\n",
    "\n",
    "token = \"5efeea68fa60416cad757ca4d1cb0d79\"\n",
    "\n",
    "# Endpoint para obtener equipos de una competición específica (p.ej., La Liga)\n",
    "url_teams = \"http://api.football-data.org/v2/competitions/PD/teams\"  # 'PD' es el código de La Liga\n",
    "\n",
    "headers = {\"X-Auth-Token\": token}\n",
    "\n",
    "# Primero, obtenemos los equipos de La Liga\n",
    "response_teams = requests.get(url_teams, headers=headers)\n",
    "\n",
    "if response_teams.status_code == 200:\n",
    "    teams_data = response_teams.json()\n",
    "    # Buscamos el ID de Real Madrid entre los equipos\n",
    "    for team in teams_data['teams']:\n",
    "        if team['name'] == \"Real Madrid CF\":\n",
    "            real_madrid_id = team['id']\n",
    "            print(\"ID de Real Madrid:\", real_madrid_id)\n",
    "            break\n",
    "else:\n",
    "    print(\"Error al obtener equipos:\", response_teams.status_code)\n"
   ]
  },
  {
   "cell_type": "code",
   "execution_count": 14,
   "metadata": {},
   "outputs": [
    {
     "name": "stdout",
     "output_type": "stream",
     "text": [
      "ID de Arsenal: 57\n"
     ]
    }
   ],
   "source": [
    "import requests\n",
    "\n",
    "token = \"5efeea68fa60416cad757ca4d1cb0d79\"\n",
    "\n",
    "# Endpoint para obtener equipos de una competición específica (p.ej., Premier League)\n",
    "url_teams = \"http://api.football-data.org/v2/competitions/PL/teams\"  # 'PL' es el código de la Premier League\n",
    "\n",
    "headers = {\"X-Auth-Token\": token}\n",
    "\n",
    "# Primero, obtenemos los equipos de la Premier League\n",
    "response_teams = requests.get(url_teams, headers=headers)\n",
    "\n",
    "if response_teams.status_code == 200:\n",
    "    teams_data = response_teams.json()\n",
    "    # Buscamos el ID del Arsenal entre los equipos\n",
    "    for team in teams_data['teams']:\n",
    "        if team['name'] == \"Arsenal FC\":  # Asegúrate de que el nombre coincida exactamente\n",
    "            arsenal_id = team['id']\n",
    "            print(\"ID de Arsenal:\", arsenal_id)\n",
    "            break\n",
    "else:\n",
    "    print(\"Error al obtener equipos:\", response_teams.status_code)\n"
   ]
  },
  {
   "cell_type": "code",
   "execution_count": 3,
   "metadata": {},
   "outputs": [
    {
     "name": "stdout",
     "output_type": "stream",
     "text": [
      "ID de Borussia Dortmund: 4\n",
      "ID de FC Bayern München: 5\n",
      "ID de Manchester City FC: 65\n",
      "ID de Club Atlético de Madrid: 78\n",
      "ID de FC Barcelona: 81\n",
      "ID de Real Madrid CF: 86\n",
      "ID de Paris Saint-Germain FC: 524\n"
     ]
    }
   ],
   "source": [
    "import requests\n",
    "\n",
    "token = \"5efeea68fa60416cad757ca4d1cb0d79\"\n",
    "url_teams = \"http://api.football-data.org/v2/competitions/CL/teams\"\n",
    "headers = {\"X-Auth-Token\": token}\n",
    "\n",
    "# Nombres de los 8 equipos en cuartos de final\n",
    "quarter_final_teams = [\n",
    "    \"Real Madrid CF\", \"FC Arsenal\", \"FC Bayern München\", \n",
    "    \"Manchester City FC\", \"Paris Saint-Germain FC\", \n",
    "    \"FC Barcelona\", \"Club Atlético de Madrid\", \"Borussia Dortmund\"\n",
    "]\n",
    "\n",
    "# Solicitamos los equipos participantes en la Champions League\n",
    "response_teams = requests.get(url_teams, headers=headers)\n",
    "\n",
    "if response_teams.status_code == 200:\n",
    "    teams_data = response_teams.json()\n",
    "    # Filtramos para obtener solo los IDs de los equipos en cuartos de final\n",
    "    for team in teams_data['teams']:\n",
    "        if team['name'] in quarter_final_teams:\n",
    "            print(f\"ID de {team['name']}: {team['id']}\")\n",
    "else:\n",
    "    print(\"Error al obtener equipos de la Champions League:\", response_teams.status_code)\n"
   ]
  },
  {
   "cell_type": "code",
   "execution_count": 7,
   "metadata": {},
   "outputs": [
    {
     "name": "stdout",
     "output_type": "stream",
     "text": [
      "Datos de los jugadores del Real Madrid guardados en 'real_madrid_players.csv'.\n"
     ]
    }
   ],
   "source": [
    "import requests\n",
    "import csv\n",
    "\n",
    "# ID del Real Madrid y tu token API\n",
    "team_id = 86\n",
    "token = \"5efeea68fa60416cad757ca4d1cb0d79\"\n",
    "\n",
    "# Endpoint para obtener información de los jugadores del equipo\n",
    "url_players = f\"http://api.football-data.org/v2/teams/{team_id}\"\n",
    "\n",
    "headers = {\"X-Auth-Token\": token}\n",
    "\n",
    "# Realizar la solicitud para obtener datos de los jugadores\n",
    "response = requests.get(url_players, headers=headers)\n",
    "\n",
    "if response.status_code == 200:\n",
    "    team_data = response.json()\n",
    "    # Abrimos (o creamos) un archivo CSV para escribir la información\n",
    "    with open('JUGADORES/real_madrid_players.csv', 'w', newline='', encoding='utf-8') as file:\n",
    "        writer = csv.writer(file)\n",
    "        # Escribimos el encabezado del CSV\n",
    "        writer.writerow(['Nombre', 'Posición', 'Nacionalidad', 'Fecha de Nacimiento'])\n",
    "        \n",
    "        # Iteramos sobre los jugadores para extraer la información deseada\n",
    "        for player in team_data['squad']:\n",
    "            name = player['name']\n",
    "            position = player['position']\n",
    "            nationality = player['nationality']\n",
    "            dateOfBirth = player['dateOfBirth']\n",
    "            \n",
    "            # Escribimos la fila con la información del jugador sin el número de la camiseta\n",
    "            writer.writerow([name, position, nationality, dateOfBirth])\n",
    "    \n",
    "    print(\"Datos de los jugadores del Real Madrid guardados en 'real_madrid_players.csv'.\")\n",
    "else:\n",
    "    print(\"Error al obtener información de los jugadores:\", response.status_code)\n"
   ]
  },
  {
   "cell_type": "code",
   "execution_count": 8,
   "metadata": {},
   "outputs": [
    {
     "name": "stdout",
     "output_type": "stream",
     "text": [
      "Datos de los jugadores del Borussia Dortmund guardados en 'borussia_dortmund_players.csv'.\n"
     ]
    }
   ],
   "source": [
    "import requests\n",
    "import csv\n",
    "\n",
    "# ID del Borussia Dortmund y tu token API\n",
    "team_id = 4\n",
    "token = \"5efeea68fa60416cad757ca4d1cb0d79\"\n",
    "\n",
    "# Endpoint para obtener información de los jugadores del equipo\n",
    "url_players = f\"http://api.football-data.org/v2/teams/{team_id}\"\n",
    "\n",
    "headers = {\"X-Auth-Token\": token}\n",
    "\n",
    "# Realizar la solicitud para obtener datos de los jugadores\n",
    "response = requests.get(url_players, headers=headers)\n",
    "\n",
    "if response.status_code == 200:\n",
    "    team_data = response.json()\n",
    "    # Abrimos (o creamos) un archivo CSV para escribir la información\n",
    "    with open('JUGADORES/borussia_dortmund_players.csv', 'w', newline='', encoding='utf-8') as file:\n",
    "        writer = csv.writer(file)\n",
    "        # Escribimos el encabezado del CSV\n",
    "        writer.writerow(['Nombre', 'Posición', 'Nacionalidad', 'Fecha de Nacimiento'])\n",
    "        \n",
    "        # Iteramos sobre los jugadores para extraer la información deseada\n",
    "        for player in team_data['squad']:\n",
    "            name = player['name']\n",
    "            position = player['position']\n",
    "            nationality = player['nationality']\n",
    "            dateOfBirth = player['dateOfBirth']\n",
    "            \n",
    "            # Escribimos la fila con la información del jugador\n",
    "            writer.writerow([name, position, nationality, dateOfBirth])\n",
    "    \n",
    "    print(\"Datos de los jugadores del Borussia Dortmund guardados en 'borussia_dortmund_players.csv'.\")\n",
    "else:\n",
    "    print(\"Error al obtener información de los jugadores:\", response.status_code)\n"
   ]
  },
  {
   "cell_type": "code",
   "execution_count": 9,
   "metadata": {},
   "outputs": [
    {
     "name": "stdout",
     "output_type": "stream",
     "text": [
      "Datos de los jugadores del FC Bayern München guardados en 'fc_bayern_munchen_players.csv'.\n"
     ]
    }
   ],
   "source": [
    "import requests\n",
    "import csv\n",
    "\n",
    "# ID del FC Bayern München y tu token API\n",
    "team_id = 5\n",
    "token = \"5efeea68fa60416cad757ca4d1cb0d79\"\n",
    "\n",
    "# Endpoint para obtener información de los jugadores del equipo\n",
    "url_players = f\"http://api.football-data.org/v2/teams/{team_id}\"\n",
    "\n",
    "headers = {\"X-Auth-Token\": token}\n",
    "\n",
    "# Realizar la solicitud para obtener datos de los jugadores\n",
    "response = requests.get(url_players, headers=headers)\n",
    "\n",
    "if response.status_code == 200:\n",
    "    team_data = response.json()\n",
    "    # Abrimos (o creamos) un archivo CSV para escribir la información\n",
    "    with open('JUGADORES/fc_bayern_munchen_players.csv', 'w', newline='', encoding='utf-8') as file:\n",
    "        writer = csv.writer(file)\n",
    "        # Escribimos el encabezado del CSV\n",
    "        writer.writerow(['Nombre', 'Posición', 'Nacionalidad', 'Fecha de Nacimiento'])\n",
    "        \n",
    "        # Iteramos sobre los jugadores para extraer la información deseada\n",
    "        for player in team_data['squad']:\n",
    "            name = player['name']\n",
    "            position = player['position']\n",
    "            nationality = player['nationality']\n",
    "            dateOfBirth = player['dateOfBirth']\n",
    "            \n",
    "            # Escribimos la fila con la información del jugador\n",
    "            writer.writerow([name, position, nationality, dateOfBirth])\n",
    "    \n",
    "    print(\"Datos de los jugadores del FC Bayern München guardados en 'fc_bayern_munchen_players.csv'.\")\n",
    "else:\n",
    "    print(\"Error al obtener información de los jugadores:\", response.status_code)\n"
   ]
  },
  {
   "cell_type": "code",
   "execution_count": 10,
   "metadata": {},
   "outputs": [
    {
     "name": "stdout",
     "output_type": "stream",
     "text": [
      "Datos de los jugadores del Manchester City FC guardados en 'manchester_city_fc_players.csv'.\n"
     ]
    }
   ],
   "source": [
    "import requests\n",
    "import csv\n",
    "\n",
    "# ID del Manchester City FC y tu token API\n",
    "team_id = 65\n",
    "token = \"5efeea68fa60416cad757ca4d1cb0d79\"\n",
    "\n",
    "# Endpoint para obtener información de los jugadores del equipo\n",
    "url_players = f\"http://api.football-data.org/v2/teams/{team_id}\"\n",
    "\n",
    "headers = {\"X-Auth-Token\": token}\n",
    "\n",
    "# Realizar la solicitud para obtener datos de los jugadores\n",
    "response = requests.get(url_players, headers=headers)\n",
    "\n",
    "if response.status_code == 200:\n",
    "    team_data = response.json()\n",
    "    # Abrimos (o creamos) un archivo CSV para escribir la información\n",
    "    with open('JUGADORES/manchester_city_fc_players.csv', 'w', newline='', encoding='utf-8') as file:\n",
    "        writer = csv.writer(file)\n",
    "        # Escribimos el encabezado del CSV\n",
    "        writer.writerow(['Nombre', 'Posición', 'Nacionalidad', 'Fecha de Nacimiento'])\n",
    "        \n",
    "        # Iteramos sobre los jugadores para extraer la información deseada\n",
    "        for player in team_data['squad']:\n",
    "            name = player['name']\n",
    "            position = player['position']\n",
    "            nationality = player['nationality']\n",
    "            dateOfBirth = player['dateOfBirth']\n",
    "            \n",
    "            # Escribimos la fila con la información del jugador\n",
    "            writer.writerow([name, position, nationality, dateOfBirth])\n",
    "    \n",
    "    print(\"Datos de los jugadores del Manchester City FC guardados en 'manchester_city_fc_players.csv'.\")\n",
    "else:\n",
    "    print(\"Error al obtener información de los jugadores:\", response.status_code)\n"
   ]
  },
  {
   "cell_type": "code",
   "execution_count": 11,
   "metadata": {},
   "outputs": [
    {
     "name": "stdout",
     "output_type": "stream",
     "text": [
      "Datos de los jugadores del Club Atlético de Madrid guardados en 'club_atletico_de_madrid_players.csv'.\n"
     ]
    }
   ],
   "source": [
    "import requests\n",
    "import csv\n",
    "\n",
    "# ID del Club Atlético de Madrid y tu token API\n",
    "team_id = 78\n",
    "token = \"5efeea68fa60416cad757ca4d1cb0d79\"\n",
    "\n",
    "# Endpoint para obtener información de los jugadores del equipo\n",
    "url_players = f\"http://api.football-data.org/v2/teams/{team_id}\"\n",
    "\n",
    "headers = {\"X-Auth-Token\": token}\n",
    "\n",
    "# Realizar la solicitud para obtener datos de los jugadores\n",
    "response = requests.get(url_players, headers=headers)\n",
    "\n",
    "if response.status_code == 200:\n",
    "    team_data = response.json()\n",
    "    # Abrimos (o creamos) un archivo CSV para escribir la información\n",
    "    with open('JUGADORES/club_atletico_de_madrid_players.csv', 'w', newline='', encoding='utf-8') as file:\n",
    "        writer = csv.writer(file)\n",
    "        # Escribimos el encabezado del CSV\n",
    "        writer.writerow(['Nombre', 'Posición', 'Nacionalidad', 'Fecha de Nacimiento'])\n",
    "        \n",
    "        # Iteramos sobre los jugadores para extraer la información deseada\n",
    "        for player in team_data['squad']:\n",
    "            name = player['name']\n",
    "            position = player['position']\n",
    "            nationality = player['nationality']\n",
    "            dateOfBirth = player['dateOfBirth']\n",
    "            \n",
    "            # Escribimos la fila con la información del jugador\n",
    "            writer.writerow([name, position, nationality, dateOfBirth])\n",
    "    \n",
    "    print(\"Datos de los jugadores del Club Atlético de Madrid guardados en 'club_atletico_de_madrid_players.csv'.\")\n",
    "else:\n",
    "    print(\"Error al obtener información de los jugadores:\", response.status_code)\n"
   ]
  },
  {
   "cell_type": "code",
   "execution_count": 12,
   "metadata": {},
   "outputs": [
    {
     "name": "stdout",
     "output_type": "stream",
     "text": [
      "Datos de los jugadores del FC Barcelona guardados en 'fc_barcelona_players.csv'.\n"
     ]
    }
   ],
   "source": [
    "import requests\n",
    "import csv\n",
    "\n",
    "# ID del FC Barcelona y tu token API\n",
    "team_id = 81\n",
    "token = \"5efeea68fa60416cad757ca4d1cb0d79\"\n",
    "\n",
    "# Endpoint para obtener información de los jugadores del equipo\n",
    "url_players = f\"http://api.football-data.org/v2/teams/{team_id}\"\n",
    "\n",
    "headers = {\"X-Auth-Token\": token}\n",
    "\n",
    "# Realizar la solicitud para obtener datos de los jugadores\n",
    "response = requests.get(url_players, headers=headers)\n",
    "\n",
    "if response.status_code == 200:\n",
    "    team_data = response.json()\n",
    "    # Abrimos (o creamos) un archivo CSV para escribir la información\n",
    "    with open('JUGADORES/fc_barcelona_players.csv', 'w', newline='', encoding='utf-8') as file:\n",
    "        writer = csv.writer(file)\n",
    "        # Escribimos el encabezado del CSV\n",
    "        writer.writerow(['Nombre', 'Posición', 'Nacionalidad', 'Fecha de Nacimiento'])\n",
    "        \n",
    "        # Iteramos sobre los jugadores para extraer la información deseada\n",
    "        for player in team_data['squad']:\n",
    "            name = player['name']\n",
    "            position = player['position']\n",
    "            nationality = player['nationality']\n",
    "            dateOfBirth = player['dateOfBirth']\n",
    "            \n",
    "            # Escribimos la fila con la información del jugador\n",
    "            writer.writerow([name, position, nationality, dateOfBirth])\n",
    "    \n",
    "    print(\"Datos de los jugadores del FC Barcelona guardados en 'fc_barcelona_players.csv'.\")\n",
    "else:\n",
    "    print(\"Error al obtener información de los jugadores:\", response.status_code)\n"
   ]
  },
  {
   "cell_type": "code",
   "execution_count": 13,
   "metadata": {},
   "outputs": [
    {
     "name": "stdout",
     "output_type": "stream",
     "text": [
      "Datos de los jugadores del Paris Saint-Germain FC guardados en 'paris_saint_germain_fc_players.csv'.\n"
     ]
    }
   ],
   "source": [
    "import requests\n",
    "import csv\n",
    "\n",
    "# ID del Paris Saint-Germain FC y tu token API\n",
    "team_id = 524\n",
    "token = \"5efeea68fa60416cad757ca4d1cb0d79\"\n",
    "\n",
    "# Endpoint para obtener información de los jugadores del equipo\n",
    "url_players = f\"http://api.football-data.org/v2/teams/{team_id}\"\n",
    "\n",
    "headers = {\"X-Auth-Token\": token}\n",
    "\n",
    "# Realizar la solicitud para obtener datos de los jugadores\n",
    "response = requests.get(url_players, headers=headers)\n",
    "\n",
    "if response.status_code == 200:\n",
    "    team_data = response.json()\n",
    "    # Abrimos (o creamos) un archivo CSV para escribir la información\n",
    "    with open('JUGADORES/paris_saint_germain_fc_players.csv', 'w', newline='', encoding='utf-8') as file:\n",
    "        writer = csv.writer(file)\n",
    "        # Escribimos el encabezado del CSV\n",
    "        writer.writerow(['Nombre', 'Posición', 'Nacionalidad', 'Fecha de Nacimiento'])\n",
    "        \n",
    "        # Iteramos sobre los jugadores para extraer la información deseada\n",
    "        for player in team_data['squad']:\n",
    "            name = player['name']\n",
    "            position = player['position']\n",
    "            nationality = player['nationality']\n",
    "            dateOfBirth = player['dateOfBirth']\n",
    "            \n",
    "            # Escribimos la fila con la información del jugador\n",
    "            writer.writerow([name, position, nationality, dateOfBirth])\n",
    "    \n",
    "    print(\"Datos de los jugadores del Paris Saint-Germain FC guardados en 'paris_saint_germain_fc_players.csv'.\")\n",
    "else:\n",
    "    print(\"Error al obtener información de los jugadores:\", response.status_code)\n"
   ]
  },
  {
   "cell_type": "code",
   "execution_count": 15,
   "metadata": {},
   "outputs": [
    {
     "name": "stdout",
     "output_type": "stream",
     "text": [
      "Datos de los jugadores del Arsenal FC guardados en 'arsenal_fc_players.csv'.\n"
     ]
    }
   ],
   "source": [
    "import requests\n",
    "import csv\n",
    "\n",
    "# ID del Arsenal y tu token API\n",
    "team_id = 57\n",
    "token = \"5efeea68fa60416cad757ca4d1cb0d79\"\n",
    "\n",
    "# Endpoint para obtener información de los jugadores del equipo\n",
    "url_players = f\"http://api.football-data.org/v2/teams/{team_id}\"\n",
    "\n",
    "headers = {\"X-Auth-Token\": token}\n",
    "\n",
    "# Realizar la solicitud para obtener datos de los jugadores\n",
    "response = requests.get(url_players, headers=headers)\n",
    "\n",
    "if response.status_code == 200:\n",
    "    team_data = response.json()\n",
    "    # Abrimos (o creamos) un archivo CSV para escribir la información\n",
    "    with open('JUGADORES/arsenal_fc_players.csv', 'w', newline='', encoding='utf-8') as file:\n",
    "        writer = csv.writer(file)\n",
    "        # Escribimos el encabezado del CSV\n",
    "        writer.writerow(['Nombre', 'Posición', 'Nacionalidad', 'Fecha de Nacimiento'])\n",
    "        \n",
    "        # Iteramos sobre los jugadores para extraer la información deseada\n",
    "        for player in team_data['squad']:\n",
    "            name = player['name']\n",
    "            position = player['position']\n",
    "            nationality = player['nationality']\n",
    "            dateOfBirth = player['dateOfBirth']\n",
    "            \n",
    "            # Escribimos la fila con la información del jugador\n",
    "            writer.writerow([name, position, nationality, dateOfBirth])\n",
    "    \n",
    "    print(\"Datos de los jugadores del Arsenal FC guardados en 'arsenal_fc_players.csv'.\")\n",
    "else:\n",
    "    print(\"Error al obtener información de los jugadores:\", response.status_code)\n"
   ]
  }
 ],
 "metadata": {
  "kernelspec": {
   "display_name": "Python 3",
   "language": "python",
   "name": "python3"
  },
  "language_info": {
   "codemirror_mode": {
    "name": "ipython",
    "version": 3
   },
   "file_extension": ".py",
   "mimetype": "text/x-python",
   "name": "python",
   "nbconvert_exporter": "python",
   "pygments_lexer": "ipython3",
   "version": "3.9.8"
  }
 },
 "nbformat": 4,
 "nbformat_minor": 2
}
