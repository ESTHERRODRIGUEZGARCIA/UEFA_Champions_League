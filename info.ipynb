{
 "cells": [
  {
   "cell_type": "code",
   "execution_count": 1,
   "metadata": {},
   "outputs": [
    {
     "name": "stdout",
     "output_type": "stream",
     "text": [
      "ID de Real Madrid: 86\n"
     ]
    }
   ],
   "source": [
    "import requests\n",
    "\n",
    "token = \"5efeea68fa60416cad757ca4d1cb0d79\"\n",
    "\n",
    "# Endpoint para obtener equipos de una competición específica (p.ej., La Liga)\n",
    "url_teams = \"http://api.football-data.org/v2/competitions/PD/teams\"  # 'PD' es el código de La Liga\n",
    "\n",
    "headers = {\"X-Auth-Token\": token}\n",
    "\n",
    "# Primero, obtenemos los equipos de La Liga\n",
    "response_teams = requests.get(url_teams, headers=headers)\n",
    "\n",
    "if response_teams.status_code == 200:\n",
    "    teams_data = response_teams.json()\n",
    "    # Buscamos el ID de Real Madrid entre los equipos\n",
    "    for team in teams_data['teams']:\n",
    "        if team['name'] == \"Real Madrid CF\":\n",
    "            real_madrid_id = team['id']\n",
    "            print(\"ID de Real Madrid:\", real_madrid_id)\n",
    "            break\n",
    "else:\n",
    "    print(\"Error al obtener equipos:\", response_teams.status_code)\n"
   ]
  },
  {
   "cell_type": "code",
   "execution_count": 3,
   "metadata": {},
   "outputs": [
    {
     "name": "stdout",
     "output_type": "stream",
     "text": [
      "ID de Borussia Dortmund: 4\n",
      "ID de FC Bayern München: 5\n",
      "ID de Manchester City FC: 65\n",
      "ID de Club Atlético de Madrid: 78\n",
      "ID de FC Barcelona: 81\n",
      "ID de Real Madrid CF: 86\n",
      "ID de Paris Saint-Germain FC: 524\n"
     ]
    }
   ],
   "source": [
    "import requests\n",
    "\n",
    "token = \"5efeea68fa60416cad757ca4d1cb0d79\"\n",
    "url_teams = \"http://api.football-data.org/v2/competitions/CL/teams\"\n",
    "headers = {\"X-Auth-Token\": token}\n",
    "\n",
    "# Nombres de los 8 equipos en cuartos de final\n",
    "quarter_final_teams = [\n",
    "    \"Real Madrid CF\", \"FC Arsenal\", \"FC Bayern München\", \n",
    "    \"Manchester City FC\", \"Paris Saint-Germain FC\", \n",
    "    \"FC Barcelona\", \"Club Atlético de Madrid\", \"Borussia Dortmund\"\n",
    "]\n",
    "\n",
    "# Solicitamos los equipos participantes en la Champions League\n",
    "response_teams = requests.get(url_teams, headers=headers)\n",
    "\n",
    "if response_teams.status_code == 200:\n",
    "    teams_data = response_teams.json()\n",
    "    # Filtramos para obtener solo los IDs de los equipos en cuartos de final\n",
    "    for team in teams_data['teams']:\n",
    "        if team['name'] in quarter_final_teams:\n",
    "            print(f\"ID de {team['name']}: {team['id']}\")\n",
    "else:\n",
    "    print(\"Error al obtener equipos de la Champions League:\", response_teams.status_code)\n"
   ]
  },
  {
   "cell_type": "code",
   "execution_count": null,
   "metadata": {},
   "outputs": [],
   "source": [
    "import requests\n",
    "import csv\n",
    "\n",
    "# ID del Real Madrid y tu token API\n",
    "team_id = 86\n",
    "token = \"5efeea68fa60416cad757ca4d1cb0d79\"\n",
    "\n",
    "# Endpoint para obtener información de los jugadores del equipo\n",
    "url_players = f\"http://api.football-data.org/v2/teams/{team_id}\"\n",
    "\n",
    "headers = {\"X-Auth-Token\": token}\n",
    "\n",
    "# Realizar la solicitud para obtener datos de los jugadores\n",
    "response = requests.get(url_players, headers=headers)\n",
    "\n",
    "if response.status_code == 200:\n",
    "    team_data = response.json()\n",
    "    # Abrimos (o creamos) un archivo CSV para escribir la información\n",
    "    with open('JUGADORES/real_madrid_players.csv', 'w', newline='', encoding='utf-8') as file:\n",
    "        writer = csv.writer(file)\n",
    "        # Escribimos el encabezado del CSV\n",
    "        writer.writerow(['Nombre', 'Posición', 'Número de Camiseta', 'Nacionalidad', 'Fecha de Nacimiento'])\n",
    "        \n",
    "        # Iteramos sobre los jugadores para extraer la información deseada\n",
    "        for player in team_data['squad']:\n",
    "            name = player['name']\n",
    "            position = player['position']\n",
    "            shirtNumber = player.get('shirtNumber', 'N/A')  # Puede no estar disponible para todos los jugadores\n",
    "            nationality = player['nationality']\n",
    "            dateOfBirth = player['dateOfBirth']\n",
    "            \n",
    "            # Escribimos la fila con la información del jugador\n",
    "            writer.writerow([name, position, shirtNumber, nationality, dateOfBirth])\n",
    "    \n",
    "    print(\"Datos de los jugadores del Real Madrid guardados en 'real_madrid_players.csv'.\")\n",
    "else:\n",
    "    print(\"Error al obtener información de los jugadores:\", response.status_code)\n"
   ]
  },
  {
   "cell_type": "code",
   "execution_count": 4,
   "metadata": {},
   "outputs": [
    {
     "name": "stdout",
     "output_type": "stream",
     "text": [
      "Información de los jugadores del Borussia Dortmund guardada en /mnt/data/JUGADORES\\Borussia_Dortmund_players.csv.\n"
     ]
    },
    {
     "ename": "AttributeError",
     "evalue": "'list' object has no attribute 'items'",
     "output_type": "error",
     "traceback": [
      "\u001b[1;31m---------------------------------------------------------------------------\u001b[0m",
      "\u001b[1;31mAttributeError\u001b[0m                            Traceback (most recent call last)",
      "Cell \u001b[1;32mIn [4], line 25\u001b[0m\n\u001b[0;32m     23\u001b[0m \u001b[38;5;28;01mfor\u001b[39;00m team_name, team_id \u001b[38;5;129;01min\u001b[39;00m teams_ids\u001b[38;5;241m.\u001b[39mitems():\n\u001b[0;32m     24\u001b[0m     url_squad \u001b[38;5;241m=\u001b[39m \u001b[38;5;124mf\u001b[39m\u001b[38;5;124m\"\u001b[39m\u001b[38;5;124mhttp://api.football-data.org/v2/teams/\u001b[39m\u001b[38;5;132;01m{\u001b[39;00mteam_id\u001b[38;5;132;01m}\u001b[39;00m\u001b[38;5;124m\"\u001b[39m\n\u001b[1;32m---> 25\u001b[0m     response_squad \u001b[38;5;241m=\u001b[39m \u001b[43mrequests\u001b[49m\u001b[38;5;241;43m.\u001b[39;49m\u001b[43mget\u001b[49m\u001b[43m(\u001b[49m\u001b[43murl_squad\u001b[49m\u001b[43m,\u001b[49m\u001b[43m \u001b[49m\u001b[43mheaders\u001b[49m\u001b[38;5;241;43m=\u001b[39;49m\u001b[43mheaders\u001b[49m\u001b[43m)\u001b[49m\n\u001b[0;32m     27\u001b[0m     \u001b[38;5;28;01mif\u001b[39;00m response_squad\u001b[38;5;241m.\u001b[39mstatus_code \u001b[38;5;241m==\u001b[39m \u001b[38;5;241m200\u001b[39m:\n\u001b[0;32m     28\u001b[0m         squad_data \u001b[38;5;241m=\u001b[39m response_squad\u001b[38;5;241m.\u001b[39mjson()\n",
      "File \u001b[1;32mc:\\Users\\Usuario\\AppData\\Local\\Programs\\Python\\Python39\\lib\\site-packages\\requests\\api.py:73\u001b[0m, in \u001b[0;36mget\u001b[1;34m(url, params, **kwargs)\u001b[0m\n\u001b[0;32m     62\u001b[0m \u001b[38;5;28;01mdef\u001b[39;00m \u001b[38;5;21mget\u001b[39m(url, params\u001b[38;5;241m=\u001b[39m\u001b[38;5;28;01mNone\u001b[39;00m, \u001b[38;5;241m*\u001b[39m\u001b[38;5;241m*\u001b[39mkwargs):\n\u001b[0;32m     63\u001b[0m     \u001b[38;5;124mr\u001b[39m\u001b[38;5;124;03m\"\"\"Sends a GET request.\u001b[39;00m\n\u001b[0;32m     64\u001b[0m \n\u001b[0;32m     65\u001b[0m \u001b[38;5;124;03m    :param url: URL for the new :class:`Request` object.\u001b[39;00m\n\u001b[1;32m   (...)\u001b[0m\n\u001b[0;32m     70\u001b[0m \u001b[38;5;124;03m    :rtype: requests.Response\u001b[39;00m\n\u001b[0;32m     71\u001b[0m \u001b[38;5;124;03m    \"\"\"\u001b[39;00m\n\u001b[1;32m---> 73\u001b[0m     \u001b[38;5;28;01mreturn\u001b[39;00m request(\u001b[38;5;124m\"\u001b[39m\u001b[38;5;124mget\u001b[39m\u001b[38;5;124m\"\u001b[39m, url, params\u001b[38;5;241m=\u001b[39mparams, \u001b[38;5;241m*\u001b[39m\u001b[38;5;241m*\u001b[39mkwargs)\n",
      "File \u001b[1;32mc:\\Users\\Usuario\\AppData\\Local\\Programs\\Python\\Python39\\lib\\site-packages\\requests\\api.py:59\u001b[0m, in \u001b[0;36mrequest\u001b[1;34m(method, url, **kwargs)\u001b[0m\n\u001b[0;32m     55\u001b[0m \u001b[38;5;66;03m# By using the 'with' statement we are sure the session is closed, thus we\u001b[39;00m\n\u001b[0;32m     56\u001b[0m \u001b[38;5;66;03m# avoid leaving sockets open which can trigger a ResourceWarning in some\u001b[39;00m\n\u001b[0;32m     57\u001b[0m \u001b[38;5;66;03m# cases, and look like a memory leak in others.\u001b[39;00m\n\u001b[0;32m     58\u001b[0m \u001b[38;5;28;01mwith\u001b[39;00m sessions\u001b[38;5;241m.\u001b[39mSession() \u001b[38;5;28;01mas\u001b[39;00m session:\n\u001b[1;32m---> 59\u001b[0m     \u001b[38;5;28;01mreturn\u001b[39;00m session\u001b[38;5;241m.\u001b[39mrequest(method\u001b[38;5;241m=\u001b[39mmethod, url\u001b[38;5;241m=\u001b[39murl, \u001b[38;5;241m*\u001b[39m\u001b[38;5;241m*\u001b[39mkwargs)\n",
      "File \u001b[1;32mc:\\Users\\Usuario\\AppData\\Local\\Programs\\Python\\Python39\\lib\\site-packages\\requests\\sessions.py:575\u001b[0m, in \u001b[0;36mSession.request\u001b[1;34m(self, method, url, params, data, headers, cookies, files, auth, timeout, allow_redirects, proxies, hooks, stream, verify, cert, json)\u001b[0m\n\u001b[0;32m    562\u001b[0m \u001b[38;5;66;03m# Create the Request.\u001b[39;00m\n\u001b[0;32m    563\u001b[0m req \u001b[38;5;241m=\u001b[39m Request(\n\u001b[0;32m    564\u001b[0m     method\u001b[38;5;241m=\u001b[39mmethod\u001b[38;5;241m.\u001b[39mupper(),\n\u001b[0;32m    565\u001b[0m     url\u001b[38;5;241m=\u001b[39murl,\n\u001b[1;32m   (...)\u001b[0m\n\u001b[0;32m    573\u001b[0m     hooks\u001b[38;5;241m=\u001b[39mhooks,\n\u001b[0;32m    574\u001b[0m )\n\u001b[1;32m--> 575\u001b[0m prep \u001b[38;5;241m=\u001b[39m \u001b[38;5;28;43mself\u001b[39;49m\u001b[38;5;241;43m.\u001b[39;49m\u001b[43mprepare_request\u001b[49m\u001b[43m(\u001b[49m\u001b[43mreq\u001b[49m\u001b[43m)\u001b[49m\n\u001b[0;32m    577\u001b[0m proxies \u001b[38;5;241m=\u001b[39m proxies \u001b[38;5;129;01mor\u001b[39;00m {}\n\u001b[0;32m    579\u001b[0m settings \u001b[38;5;241m=\u001b[39m \u001b[38;5;28mself\u001b[39m\u001b[38;5;241m.\u001b[39mmerge_environment_settings(\n\u001b[0;32m    580\u001b[0m     prep\u001b[38;5;241m.\u001b[39murl, proxies, stream, verify, cert\n\u001b[0;32m    581\u001b[0m )\n",
      "File \u001b[1;32mc:\\Users\\Usuario\\AppData\\Local\\Programs\\Python\\Python39\\lib\\site-packages\\requests\\sessions.py:486\u001b[0m, in \u001b[0;36mSession.prepare_request\u001b[1;34m(self, request)\u001b[0m\n\u001b[0;32m    483\u001b[0m     auth \u001b[38;5;241m=\u001b[39m get_netrc_auth(request\u001b[38;5;241m.\u001b[39murl)\n\u001b[0;32m    485\u001b[0m p \u001b[38;5;241m=\u001b[39m PreparedRequest()\n\u001b[1;32m--> 486\u001b[0m \u001b[43mp\u001b[49m\u001b[38;5;241;43m.\u001b[39;49m\u001b[43mprepare\u001b[49m\u001b[43m(\u001b[49m\n\u001b[0;32m    487\u001b[0m \u001b[43m    \u001b[49m\u001b[43mmethod\u001b[49m\u001b[38;5;241;43m=\u001b[39;49m\u001b[43mrequest\u001b[49m\u001b[38;5;241;43m.\u001b[39;49m\u001b[43mmethod\u001b[49m\u001b[38;5;241;43m.\u001b[39;49m\u001b[43mupper\u001b[49m\u001b[43m(\u001b[49m\u001b[43m)\u001b[49m\u001b[43m,\u001b[49m\n\u001b[0;32m    488\u001b[0m \u001b[43m    \u001b[49m\u001b[43murl\u001b[49m\u001b[38;5;241;43m=\u001b[39;49m\u001b[43mrequest\u001b[49m\u001b[38;5;241;43m.\u001b[39;49m\u001b[43murl\u001b[49m\u001b[43m,\u001b[49m\n\u001b[0;32m    489\u001b[0m \u001b[43m    \u001b[49m\u001b[43mfiles\u001b[49m\u001b[38;5;241;43m=\u001b[39;49m\u001b[43mrequest\u001b[49m\u001b[38;5;241;43m.\u001b[39;49m\u001b[43mfiles\u001b[49m\u001b[43m,\u001b[49m\n\u001b[0;32m    490\u001b[0m \u001b[43m    \u001b[49m\u001b[43mdata\u001b[49m\u001b[38;5;241;43m=\u001b[39;49m\u001b[43mrequest\u001b[49m\u001b[38;5;241;43m.\u001b[39;49m\u001b[43mdata\u001b[49m\u001b[43m,\u001b[49m\n\u001b[0;32m    491\u001b[0m \u001b[43m    \u001b[49m\u001b[43mjson\u001b[49m\u001b[38;5;241;43m=\u001b[39;49m\u001b[43mrequest\u001b[49m\u001b[38;5;241;43m.\u001b[39;49m\u001b[43mjson\u001b[49m\u001b[43m,\u001b[49m\n\u001b[0;32m    492\u001b[0m \u001b[43m    \u001b[49m\u001b[43mheaders\u001b[49m\u001b[38;5;241;43m=\u001b[39;49m\u001b[43mmerge_setting\u001b[49m\u001b[43m(\u001b[49m\n\u001b[0;32m    493\u001b[0m \u001b[43m        \u001b[49m\u001b[43mrequest\u001b[49m\u001b[38;5;241;43m.\u001b[39;49m\u001b[43mheaders\u001b[49m\u001b[43m,\u001b[49m\u001b[43m \u001b[49m\u001b[38;5;28;43mself\u001b[39;49m\u001b[38;5;241;43m.\u001b[39;49m\u001b[43mheaders\u001b[49m\u001b[43m,\u001b[49m\u001b[43m \u001b[49m\u001b[43mdict_class\u001b[49m\u001b[38;5;241;43m=\u001b[39;49m\u001b[43mCaseInsensitiveDict\u001b[49m\n\u001b[0;32m    494\u001b[0m \u001b[43m    \u001b[49m\u001b[43m)\u001b[49m\u001b[43m,\u001b[49m\n\u001b[0;32m    495\u001b[0m \u001b[43m    \u001b[49m\u001b[43mparams\u001b[49m\u001b[38;5;241;43m=\u001b[39;49m\u001b[43mmerge_setting\u001b[49m\u001b[43m(\u001b[49m\u001b[43mrequest\u001b[49m\u001b[38;5;241;43m.\u001b[39;49m\u001b[43mparams\u001b[49m\u001b[43m,\u001b[49m\u001b[43m \u001b[49m\u001b[38;5;28;43mself\u001b[39;49m\u001b[38;5;241;43m.\u001b[39;49m\u001b[43mparams\u001b[49m\u001b[43m)\u001b[49m\u001b[43m,\u001b[49m\n\u001b[0;32m    496\u001b[0m \u001b[43m    \u001b[49m\u001b[43mauth\u001b[49m\u001b[38;5;241;43m=\u001b[39;49m\u001b[43mmerge_setting\u001b[49m\u001b[43m(\u001b[49m\u001b[43mauth\u001b[49m\u001b[43m,\u001b[49m\u001b[43m \u001b[49m\u001b[38;5;28;43mself\u001b[39;49m\u001b[38;5;241;43m.\u001b[39;49m\u001b[43mauth\u001b[49m\u001b[43m)\u001b[49m\u001b[43m,\u001b[49m\n\u001b[0;32m    497\u001b[0m \u001b[43m    \u001b[49m\u001b[43mcookies\u001b[49m\u001b[38;5;241;43m=\u001b[39;49m\u001b[43mmerged_cookies\u001b[49m\u001b[43m,\u001b[49m\n\u001b[0;32m    498\u001b[0m \u001b[43m    \u001b[49m\u001b[43mhooks\u001b[49m\u001b[38;5;241;43m=\u001b[39;49m\u001b[43mmerge_hooks\u001b[49m\u001b[43m(\u001b[49m\u001b[43mrequest\u001b[49m\u001b[38;5;241;43m.\u001b[39;49m\u001b[43mhooks\u001b[49m\u001b[43m,\u001b[49m\u001b[43m \u001b[49m\u001b[38;5;28;43mself\u001b[39;49m\u001b[38;5;241;43m.\u001b[39;49m\u001b[43mhooks\u001b[49m\u001b[43m)\u001b[49m\u001b[43m,\u001b[49m\n\u001b[0;32m    499\u001b[0m \u001b[43m\u001b[49m\u001b[43m)\u001b[49m\n\u001b[0;32m    500\u001b[0m \u001b[38;5;28;01mreturn\u001b[39;00m p\n",
      "File \u001b[1;32mc:\\Users\\Usuario\\AppData\\Local\\Programs\\Python\\Python39\\lib\\site-packages\\requests\\models.py:369\u001b[0m, in \u001b[0;36mPreparedRequest.prepare\u001b[1;34m(self, method, url, headers, files, data, params, auth, cookies, hooks, json)\u001b[0m\n\u001b[0;32m    367\u001b[0m \u001b[38;5;28mself\u001b[39m\u001b[38;5;241m.\u001b[39mprepare_method(method)\n\u001b[0;32m    368\u001b[0m \u001b[38;5;28mself\u001b[39m\u001b[38;5;241m.\u001b[39mprepare_url(url, params)\n\u001b[1;32m--> 369\u001b[0m \u001b[38;5;28;43mself\u001b[39;49m\u001b[38;5;241;43m.\u001b[39;49m\u001b[43mprepare_headers\u001b[49m\u001b[43m(\u001b[49m\u001b[43mheaders\u001b[49m\u001b[43m)\u001b[49m\n\u001b[0;32m    370\u001b[0m \u001b[38;5;28mself\u001b[39m\u001b[38;5;241m.\u001b[39mprepare_cookies(cookies)\n\u001b[0;32m    371\u001b[0m \u001b[38;5;28mself\u001b[39m\u001b[38;5;241m.\u001b[39mprepare_body(data, files, json)\n",
      "File \u001b[1;32mc:\\Users\\Usuario\\AppData\\Local\\Programs\\Python\\Python39\\lib\\site-packages\\requests\\models.py:489\u001b[0m, in \u001b[0;36mPreparedRequest.prepare_headers\u001b[1;34m(self, headers)\u001b[0m\n\u001b[0;32m    487\u001b[0m \u001b[38;5;28mself\u001b[39m\u001b[38;5;241m.\u001b[39mheaders \u001b[38;5;241m=\u001b[39m CaseInsensitiveDict()\n\u001b[0;32m    488\u001b[0m \u001b[38;5;28;01mif\u001b[39;00m headers:\n\u001b[1;32m--> 489\u001b[0m     \u001b[38;5;28;01mfor\u001b[39;00m header \u001b[38;5;129;01min\u001b[39;00m \u001b[43mheaders\u001b[49m\u001b[38;5;241;43m.\u001b[39;49m\u001b[43mitems\u001b[49m():\n\u001b[0;32m    490\u001b[0m         \u001b[38;5;66;03m# Raise exception on invalid header value.\u001b[39;00m\n\u001b[0;32m    491\u001b[0m         check_header_validity(header)\n\u001b[0;32m    492\u001b[0m         name, value \u001b[38;5;241m=\u001b[39m header\n",
      "\u001b[1;31mAttributeError\u001b[0m: 'list' object has no attribute 'items'"
     ]
    }
   ],
   "source": [
    "import requests\n",
    "import csv\n",
    "import os\n",
    "\n",
    "token = \"5efeea68fa60416cad757ca4d1cb0d79\"\n",
    "\n",
    "players_folder = '/mnt/data/JUGADORES'\n",
    "\n",
    "# Diccionario con los nombres de los equipos y sus IDs\n",
    "teams_ids = {\n",
    "    'Borussia Dortmund': 4,\n",
    "    'FC Bayern München': 5,\n",
    "    'Manchester City FC': 65,\n",
    "    'Club Atlético de Madrid': 78,\n",
    "    'FC Barcelona': 81,\n",
    "    'Real Madrid CF': 86,\n",
    "    'Paris Saint-Germain FC': 524,\n",
    "}\n",
    "\n",
    "headers = {\n",
    "    \"X-Auth-Token\": token\n",
    "}\n",
    "\n",
    "for team_name, team_id in teams_ids.items():\n",
    "    # Endpoint para obtener jugadores del equipo\n",
    "    url_squad = f\"http://api.football-data.org/v2/teams/{team_id}\"\n",
    "    response_squad = requests.get(url_squad, headers=headers)\n",
    "    \n",
    "    if response_squad.status_code == 200:\n",
    "        squad_data = response_squad.json()\n",
    "        # Preparamos los datos para el CSV\n",
    "        players_info = [\n",
    "            [\n",
    "                player['name'], \n",
    "                player.get('position', 'N/A'),  # Usamos get para manejar jugadores sin posición definida\n",
    "                player['nationality'], \n",
    "                player['dateOfBirth']\n",
    "            ] for player in squad_data['squad']\n",
    "        ]\n",
    "        \n",
    "        # Definimos los encabezados del archivo CSV\n",
    "        headers = ['Nombre', 'Posición', 'Nacionalidad', 'Fecha de nacimiento']\n",
    "        \n",
    "        # Construimos el nombre del archivo CSV\n",
    "        csv_file_name = os.path.join(players_folder, f\"{team_name.replace(' ', '_')}_players.csv\")\n",
    "        \n",
    "        # Guardamos los datos en el archivo CSV\n",
    "        with open(csv_file_name, 'w', newline='', encoding='utf-8') as file:\n",
    "            writer = csv.writer(file)\n",
    "            writer.writerow(headers)\n",
    "            writer.writerows(players_info)\n",
    "            \n",
    "        print(f\"Información de los jugadores del {team_name} guardada correctamente.\")\n",
    "    else:\n",
    "        print(f\"Error al obtener la plantilla del equipo {team_name}: {response_squad.status_code}\")\n",
    "\n"
   ]
  }
 ],
 "metadata": {
  "kernelspec": {
   "display_name": "Python 3",
   "language": "python",
   "name": "python3"
  },
  "language_info": {
   "codemirror_mode": {
    "name": "ipython",
    "version": 3
   },
   "file_extension": ".py",
   "mimetype": "text/x-python",
   "name": "python",
   "nbconvert_exporter": "python",
   "pygments_lexer": "ipython3",
   "version": "3.9.8"
  }
 },
 "nbformat": 4,
 "nbformat_minor": 2
}
