{
 "cells": [
  {
   "cell_type": "code",
   "execution_count": 5,
   "metadata": {},
   "outputs": [],
   "source": [
    "import pandas as pd\n",
    "\n",
    "# Cargar el archivo CSV\n",
    "df = pd.read_csv(\"CSV/grupos_23_24.csv\")\n",
    "\n",
    "# Eliminar la columna \"rango\"\n",
    "df = df.drop(columns=[\"rango\"])\n",
    "\n",
    "# Guardar el DataFrame resultante en un nuevo archivo CSV\n",
    "df.to_csv(\"CSV_RL/grupos_23_24_sin_rango.csv\", index=False)\n",
    "\n"
   ]
  },
  {
   "cell_type": "code",
   "execution_count": 6,
   "metadata": {},
   "outputs": [],
   "source": [
    "df['equipo'] = df['equipo'].str.split(n=1).str[-1]\n",
    "\n",
    "# Guardar el DataFrame resultante en un nuevo archivo CSV\n",
    "df.to_csv(\"CSV_RL/grupos_23_24_modificado.csv\", index=False)"
   ]
  },
  {
   "cell_type": "code",
   "execution_count": 7,
   "metadata": {},
   "outputs": [],
   "source": [
    "df.insert(0, \"SEASON\", \"2023-2024\")\n",
    "\n",
    "# Guardar el DataFrame con los cambios en un nuevo archivo CSV\n",
    "df.to_csv(\"CSV_RL/grupos_temp_23_24.csv\", index=False)"
   ]
  }
 ],
 "metadata": {
  "kernelspec": {
   "display_name": "Python 3",
   "language": "python",
   "name": "python3"
  },
  "language_info": {
   "codemirror_mode": {
    "name": "ipython",
    "version": 3
   },
   "file_extension": ".py",
   "mimetype": "text/x-python",
   "name": "python",
   "nbconvert_exporter": "python",
   "pygments_lexer": "ipython3",
   "version": "3.9.8"
  }
 },
 "nbformat": 4,
 "nbformat_minor": 2
}
